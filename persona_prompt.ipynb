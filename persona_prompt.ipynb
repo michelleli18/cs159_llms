{
 "cells": [
  {
   "cell_type": "code",
   "execution_count": 12,
   "metadata": {},
   "outputs": [],
   "source": [
    "import json\n",
    "import random\n",
    "import openai\n",
    "import time \n",
    "import os\n",
    "\n",
    "from utils import *\n",
    "openai.api_key = openai_api_key"
   ]
  },
  {
   "cell_type": "code",
   "execution_count": 9,
   "metadata": {},
   "outputs": [],
   "source": [
    "# Prompt to create believable human personas with unique hobbies and backgrounds\n",
    "generate_persona_prompt = \"\"\"\n",
    "You are a persona generator, it is your job to make a description for a \"human-like\" persona but also make them very very unique. Please make the persona as robust and complex as possible to better simulate a realistic human. Your response should follow the following form:\n",
    "\n",
    "\\\"[Full name] is a [insert character primary characteristics, eg age, nationality, current occupation, etc]. Their pronouns are [he/she/they, use this instead of 'they' listed from now on]. They enjoy doing [hobbies] in their free time. However, they have also thought about expanding their interests into [new hobbies] as well because [reasons]. They do not like [dislikes] because [reasons]. They have also been working hard towards their long-term goals and dreams, which include [goals and dreams]. Personally, they own [things] at their home. Outside of home, they work at [places]. After work, they enjoy planning to go to different places to do all their hobbies.\\\" \n",
    "\n",
    "You will replace all the brackets with random names, characters, and hobbies for the specific persona that you are generating. Only give me the description of the agent and nothing more. Do not add quotations to your response. Please ensure the persona generated is also diverse in their background, gender, hobbies, and likes/dislikes. Make their character random and very unique.\n",
    "\"\"\""
   ]
  },
  {
   "cell_type": "code",
   "execution_count": 10,
   "metadata": {},
   "outputs": [],
   "source": [
    "# ChatGPT_request function taken directly from Generative Agents paper github (Park et al, 2023) without modification\n",
    "def ChatGPT_request(prompt): \n",
    "  \"\"\"\n",
    "  Given a prompt and a dictionary of GPT parameters, make a request to OpenAI\n",
    "  server and returns the response. \n",
    "  ARGS:\n",
    "    prompt: a str prompt\n",
    "    gpt_parameter: a python dictionary with the keys indicating the names of  \n",
    "                   the parameter and the values indicating the parameter \n",
    "                   values.   \n",
    "  RETURNS: \n",
    "    a str of GPT-4o's response. \n",
    "  \"\"\"\n",
    "  # temp_sleep()\n",
    "  try: \n",
    "    completion = openai.chat.completions.create(\n",
    "    model=\"gpt-4o\", \n",
    "    messages=[{\"role\": \"user\", \"content\": prompt}]\n",
    "    )\n",
    "    return completion.choices[0].message.content\n",
    "  \n",
    "  except: \n",
    "    print (\"ChatGPT ERROR\")\n",
    "    return \"ChatGPT ERROR\"\n",
    "\n",
    "\n",
    "def unique_persona(generate_persona_prompt = generate_persona_prompt, num_activities = 10):\n",
    "  # Generate and write the persona to a text file\n",
    "  generated_persona = ChatGPT_request(generate_persona_prompt)\n",
    "  response_split = generated_persona.split()\n",
    "  first_name = response_split[0].lower()\n",
    "  last_name = response_split[1].lower()\n",
    "  # store generated persona in a text file\n",
    "  personas_dir = \"data/persona_responses\"\n",
    "  os.makedirs(personas_dir, exist_ok=True)\n",
    "  with open(f\"{personas_dir}/persona_response_{first_name}_{last_name}.txt\", \"w\") as f: \n",
    "    f.write(generated_persona)\n",
    "\n",
    "  # Generate the first place\n",
    "  generate_first_place_prompt = f\"Now you are this persona that you just generated, meaning you take on their personality and do as this persona does in daily life: \\\"{generated_persona}\\\" Please give one and only activity that you as this persona would want to do.\"\n",
    "  first_place = ChatGPT_request(generate_first_place_prompt)\n",
    "\n",
    "  activities_generated = []\n",
    "  activities_generated.append(first_place)\n",
    "\n",
    "  # Generate and store all the activities\n",
    "  generate_one_more_prompt = f\"Please give one activity that you as this persona would want to do, reference their persona from previous prompts: \\\"{generated_persona}\\\". You previously already wanted to do the following activites, please generate something different from these: {', '.join(activities_generated)}.\"\n",
    "  for i in range(num_activities-1):\n",
    "    new_activity = ChatGPT_request(generate_one_more_prompt)\n",
    "    activities_generated.append(new_activity)\n",
    "  # Store activity response in a text file\n",
    "  activities_dir = f\"data/persona_activities\"\n",
    "  os.makedirs(activities_dir, exist_ok=True)\n",
    "  with open(f\"{activities_dir}/activity_response_{first_name}_{last_name}.txt\", \"w\") as f:\n",
    "    for item in activities_generated:\n",
    "        f.write(item + '\\n')"
   ]
  },
  {
   "cell_type": "code",
   "execution_count": 11,
   "metadata": {},
   "outputs": [],
   "source": [
    "unique_persona()"
   ]
  }
 ],
 "metadata": {
  "kernelspec": {
   "display_name": ".cs159",
   "language": "python",
   "name": "python3"
  },
  "language_info": {
   "codemirror_mode": {
    "name": "ipython",
    "version": 3
   },
   "file_extension": ".py",
   "mimetype": "text/x-python",
   "name": "python",
   "nbconvert_exporter": "python",
   "pygments_lexer": "ipython3",
   "version": "3.11.7"
  }
 },
 "nbformat": 4,
 "nbformat_minor": 2
}
