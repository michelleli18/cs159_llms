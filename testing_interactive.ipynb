{
 "cells": [
  {
   "cell_type": "code",
   "execution_count": 1,
   "metadata": {},
   "outputs": [],
   "source": [
    "import map_prompt_manny\n",
    "import json"
   ]
  },
  {
   "cell_type": "code",
   "execution_count": 2,
   "metadata": {},
   "outputs": [],
   "source": [
    "map_generator = map_prompt_manny.Map_Generator(\"Bruh\", {\n",
    "    \"name\": \"Map\",\n",
    "    \"coordinates\": [2, -4, 6, -3],\n",
    "    \"children\": [\n",
    "        {\n",
    "            \"name\": \"Apartment Complex\",\n",
    "            \"coordinates\": [2, -4, 3.6, -3.75]\n",
    "        },\n",
    "        {\n",
    "            \"name\": \"Library\",\n",
    "            \"coordinates\": [3.6, -4, 4.8, -3.75]\n",
    "        },\n",
    "        {\n",
    "            \"name\": \"Stadium\",\n",
    "            \"coordinates\": [4.8, -4, 6, -3.75]\n",
    "        },\n",
    "        {\n",
    "            \"name\": \"School\",\n",
    "            \"coordinates\": [4, -3.75, 6, -3.5]\n",
    "        }\n",
    "    ]\n",
    "})"
   ]
  },
  {
   "cell_type": "code",
   "execution_count": 3,
   "metadata": {},
   "outputs": [
    {
     "data": {
      "text/plain": [
       "{'name': 'Map',\n",
       " 'coordinates': [2, -4, 6, -3],\n",
       " 'children': [{'name': 'Apartment Complex',\n",
       "   'coordinates': [2, -4, 3.6, -3.75]},\n",
       "  {'name': 'Library', 'coordinates': [3.6, -4, 4.8, -3.75]},\n",
       "  {'name': 'Stadium', 'coordinates': [4.8, -4, 6, -3.75]},\n",
       "  {'name': 'School', 'coordinates': [4, -3.75, 6, -3.5]}]}"
      ]
     },
     "execution_count": 3,
     "metadata": {},
     "output_type": "execute_result"
    }
   ],
   "source": [
    "map_generator.map_json"
   ]
  },
  {
   "cell_type": "code",
   "execution_count": 4,
   "metadata": {},
   "outputs": [
    {
     "name": "stdout",
     "output_type": "stream",
     "text": [
      "activities\n",
      "['Go to the beach']\n",
      "reasonings\n",
      "['Organizing a seaside astrophotography workshop combines your love for the ocean and your interest in astrophotography, all while avoiding crowded places', '']\n",
      "Activity: Go to the beach\n",
      "Reasoning: Organizing a seaside astrophotography workshop combines your love for the ocean and your interest in astrophotography, all while avoiding crowded places\n",
      "School already exists in the map. Can already do activity: Go to the beach.\n"
     ]
    }
   ],
   "source": [
    "persona, map_json = map_generator.add_locations(None, 3)"
   ]
  },
  {
   "cell_type": "code",
   "execution_count": 5,
   "metadata": {},
   "outputs": [
    {
     "data": {
      "text/plain": [
       "{'name': 'Map',\n",
       " 'coordinates': [2, -4, 6, -3],\n",
       " 'children': [{'name': 'Apartment Complex',\n",
       "   'coordinates': [2, -4, 3.6, -3.75]},\n",
       "  {'name': 'Library', 'coordinates': [3.6, -4, 4.8, -3.75]},\n",
       "  {'name': 'Stadium', 'coordinates': [4.8, -4, 6, -3.75]},\n",
       "  {'name': 'School', 'coordinates': [4, -3.75, 6, -3.5]}]}"
      ]
     },
     "execution_count": 5,
     "metadata": {},
     "output_type": "execute_result"
    }
   ],
   "source": [
    "map_generator.map_json"
   ]
  },
  {
   "cell_type": "code",
   "execution_count": null,
   "metadata": {},
   "outputs": [],
   "source": []
  }
 ],
 "metadata": {
  "kernelspec": {
   "display_name": ".cs159",
   "language": "python",
   "name": "python3"
  },
  "language_info": {
   "codemirror_mode": {
    "name": "ipython",
    "version": 3
   },
   "file_extension": ".py",
   "mimetype": "text/x-python",
   "name": "python",
   "nbconvert_exporter": "python",
   "pygments_lexer": "ipython3",
   "version": "3.11.7"
  }
 },
 "nbformat": 4,
 "nbformat_minor": 2
}
